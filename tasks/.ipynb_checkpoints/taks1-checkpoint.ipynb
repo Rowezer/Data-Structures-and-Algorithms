{
 "cells": [
  {
   "cell_type": "markdown",
   "id": "8414d66d",
   "metadata": {},
   "source": [
    "# Зинов Тимофей Витальевич БВТ2004"
   ]
  },
  {
   "cell_type": "markdown",
   "id": "643341f9",
   "metadata": {},
   "source": [
    "Массив A состоит из целых положительных чисел длин отрезков. Составьте из трех отрезков такой треугольник, чтобы его периметр был максимально возможным. Если невозможно составить треугольник с положительной площадьюфункция возвращает 0."
   ]
  },
  {
   "cell_type": "code",
   "execution_count": 7,
   "id": "9a71063c",
   "metadata": {},
   "outputs": [
    {
     "data": {
      "text/plain": [
       "15"
      ]
     },
     "execution_count": 7,
     "metadata": {},
     "output_type": "execute_result"
    }
   ],
   "source": [
    "def calctriangle(arr):\n",
    "    arr.sort(reverse=True)\n",
    "    for i in range(0, len(arr) - 2):\n",
    "        if (arr[i] < arr[i+1] + arr[i+2]):\n",
    "            return arr[i] + arr[i+1] + arr[i+2]\n",
    "    return 0\n",
    "calctriangle([1,2,3,4,5,6])"
   ]
  },
  {
   "cell_type": "code",
   "execution_count": 8,
   "id": "e444841e",
   "metadata": {},
   "outputs": [
    {
     "data": {
      "text/plain": [
       "16"
      ]
     },
     "execution_count": 8,
     "metadata": {},
     "output_type": "execute_result"
    }
   ],
   "source": [
    "calctriangle([1,2,3,4,5,7])"
   ]
  },
  {
   "cell_type": "markdown",
   "id": "9c4ed9f1",
   "metadata": {},
   "source": [
    "Дан массив неотрицательных целых чисел nums. Расположите их в таком порядке, чтобы вместе они образовали максимально возможное число. Замечание: Результат может быть очень большим числом, поэтому представьте его как string, а не integer."
   ]
  },
  {
   "cell_type": "code",
   "execution_count": 1,
   "id": "579cf158",
   "metadata": {},
   "outputs": [],
   "source": [
    "class Comparator(str):\n",
    "    def __eq__(self, other):\n",
    "        return int(other+self) > int(self+other)\n",
    "    \n",
    "def get_more_num(nums, i = 0):\n",
    "    nums = [str(i) for i in nums]\n",
    "    nums.sort(reverse=True,key=Comparator)\n",
    "    print(''.join(nums))"
   ]
  },
  {
   "cell_type": "code",
   "execution_count": 3,
   "id": "b418b53e",
   "metadata": {
    "scrolled": true
   },
   "outputs": [
    {
     "name": "stdout",
     "output_type": "stream",
     "text": [
      "93229219129151130\n"
     ]
    }
   ],
   "source": [
    "get_more_num([113,921,912,0,9,15,9322])"
   ]
  },
  {
   "cell_type": "markdown",
   "id": "358d23b5",
   "metadata": {},
   "source": [
    "Дана матрица mat размером m * n, значения целочисленные. Напишите функцию, сортирующую каждую диагональ матрицы по возрастанию и возвращающую получившуюся матрицу. Не очень ясно, что в прямоугольной матрице является главной и побочной диагональю, а также не понятно, как мы можем отсортировать диагонали матриц, которые пересекаются на некотором элементе (в таком случае возможно, что для одной из диагоналей сортировка не отработает корректно)."
   ]
  },
  {
   "cell_type": "code",
   "execution_count": 19,
   "id": "dcfee636",
   "metadata": {},
   "outputs": [
    {
     "name": "stdout",
     "output_type": "stream",
     "text": [
      "9\n",
      "10\n",
      "  14  10  50  63   1  50   3  46   9\n",
      "  58  19  29  26  56  64  38  28  58\n",
      "   6  26  21   3  52  18   6  47  30\n",
      "  57  29  39  35  39  28  42  10  24\n",
      "  13  18  17   9  45  41   2  50  62\n",
      "  32  22  14  48  34  48  43  70  65\n",
      "  69   2   2  26  51  67  50  26  25\n",
      "  21  67  22   9  52  32  54  55  28\n",
      "   3  21  16  14  34  46   9  55  60\n",
      "   8  64  10  24  33  37   9  14  41\n",
      "\n",
      "  28  33  58  26  38  18  24  50  37\n",
      "  50  29  40  36  21  31  21  42  67\n",
      "  61  13  31  24  39  15   1  54  52\n",
      "  60  36  21  34  28  53  52  39  59\n",
      "  22  50  55  26  37  50  39   2  24\n",
      "  51  41  40  40  44  38  10  35  16\n",
      "  52  52  48  29  62  32  42  47  56\n",
      "  20  35  28  15   2  12  40  42  58\n",
      "  34  26  55  26  22  55  31  54  45\n",
      "  14  58  24  43  36  11  70  17  15\n"
     ]
    }
   ],
   "source": [
    "import random\n",
    "def printMatrix(matrix):\n",
    "    for row in matrix: \n",
    "        for x in row: \n",
    "            print ( \"{:4d}\".format(x), end = \"\" ) \n",
    "        print ()\n",
    "m = int(input())\n",
    "n = int(input())\n",
    "def sortdiagonals(matrix):\n",
    "    matrix = [[random.randint(1,70) for j in range(0,m)] for _ in range(0,n)]  \n",
    "    height = len(matrix) - 1\n",
    "    width = len(matrix[0]) - 1\n",
    "    diagLength = min(width, height) + 1\n",
    "    for _ in range(diagLen):\n",
    "        for i in range(0, diagLen - 1):\n",
    "            if (matrix[i][i] > matrix[i+1][i+1]):\n",
    "                matrix[i][i], matrix[i+1][i+1] = matrix[i+1][i+1], matrix[i][i]\n",
    "            if (matrix[height-i][i] > matrix[height-i-1][i+1]):\n",
    "                   matrix[height-i][i], matrix[height-i-1][i+1] = matrix[height-i-1][i+1], matrix[height-i][i] \n",
    "    return matrix\n",
    "printMatrix(matrix)\n",
    "print()\n",
    "printMatrix(sortdiagonals(matrix))\n",
    "    "
   ]
  }
 ],
 "metadata": {
  "kernelspec": {
   "display_name": "Python 3 (ipykernel)",
   "language": "python",
   "name": "python3"
  },
  "language_info": {
   "codemirror_mode": {
    "name": "ipython",
    "version": 3
   },
   "file_extension": ".py",
   "mimetype": "text/x-python",
   "name": "python",
   "nbconvert_exporter": "python",
   "pygments_lexer": "ipython3",
   "version": "3.10.2"
  }
 },
 "nbformat": 4,
 "nbformat_minor": 5
}
