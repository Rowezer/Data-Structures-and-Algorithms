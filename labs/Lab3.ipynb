{
 "cells": [
  {
   "cell_type": "markdown",
   "id": "db4b50f0",
   "metadata": {},
   "source": [
    "# Лабораторная работа №3\n",
    "## Выполнил студент группы БВТ2004 Зинов Тимофей"
   ]
  },
  {
   "cell_type": "markdown",
   "id": "annual-symbol",
   "metadata": {},
   "source": [
    "### Оглавление\n",
    "1. [Задание 1](#Задание-№1)\n",
    "2. [Задание 2](#Задание-№2)\n",
    "4. [Вывод](#Вывод)"
   ]
  },
  {
   "cell_type": "markdown",
   "id": "independent-spirit",
   "metadata": {},
   "source": [
    "> Дополнительные модули, использованные при выполнение лабораторной"
   ]
  },
  {
   "cell_type": "code",
   "execution_count": 2,
   "id": "4839be2b",
   "metadata": {},
   "outputs": [],
   "source": [
    "# Необходим при замере скорости выполнения кода\n",
    "from datetime import datetime as t\n",
    "# Нужен для создания словаря в алг. Бойера-Мура\n",
    "from collections import defaultdict\n",
    "import time"
   ]
  },
  {
   "cell_type": "markdown",
   "id": "inclusive-motorcycle",
   "metadata": {},
   "source": [
    "### Задание №1\n",
    "Реализовать методы поиска подстроки в строке. Добавить возможность ввода строки и подстроки с клавиатуры. Предусмотреть возможность существования пробела. Реализовать возможность выбора опции чувствительности или нечувствительности к регистру. Оценить время работы каждого алгоритма поиска и сравнить его со временем работы стандартной функции поиска, используемой в выбранном языке программирования."
   ]
  },
  {
   "cell_type": "markdown",
   "id": "interracial-communication",
   "metadata": {},
   "source": [
    "#### Алгоритм Кнута-Морриса-Пратта"
   ]
  },
  {
   "cell_type": "code",
   "execution_count": 6,
   "id": "presidential-level",
   "metadata": {},
   "outputs": [
    {
     "name": "stdout",
     "output_type": "stream",
     "text": [
      "Введите строку:\n",
      "мама мыла раму\n",
      "Введите подстроку:\n",
      "ыла\n",
      "Если Вам нужна чувствительность регистра введите - 1, если нет - 0\n",
      "0\n",
      "6\n",
      "--- 0.187700 ms ---\n",
      "6\n",
      "--- 0.117300 ms ---\n"
     ]
    }
   ],
   "source": [
    "def prefix_func(str):\n",
    "    j=0\n",
    "    n = len(str)\n",
    "    p =[0] * n\n",
    "    for i in range(1, n):\n",
    "        j = p[j-1]\n",
    "        while j > 0 and str[j] != str[i]:\n",
    "            j = p[j-1]\n",
    "        if str[i] == str[j]:\n",
    "            j += 1\n",
    "        p[i] = j\n",
    "    return p\n",
    "            \n",
    "    \n",
    "def kmp_search(str, sub_str, start_index=0):\n",
    "        j = 0\n",
    "        p = prefix_func(sub_str)\n",
    "        for i in range(start_index, len(text)):\n",
    "            while j > 0 and str[i] != sub_str[j]:\n",
    "                j = p[j-1]\n",
    "            if str[i] == sub_str[j]:\n",
    "                j += 1\n",
    "            if j >= len(sub_str):\n",
    "                return i - j + 1\n",
    "        return None\n",
    "str = input('Введите строку:\\n')\n",
    "sub_str = input('Введите подстроку:\\n')\n",
    "lower=input('Если Вам нужна чувствительность регистра введите - 1, если нет - 0\\n')\n",
    "if (lower == \"0\"):\n",
    "    text = str.lower()\n",
    "    sub_str = sub_str.lower()\n",
    "start_time = time.perf_counter()\n",
    "print(kmp_search(str, sub_str, 0))\n",
    "print(\"--- {:.6f} ms ---\".format((time.perf_counter() - start_time) * 1000))\n",
    "\n",
    "start_time = time.perf_counter()\n",
    "print(text.find(sub_str))\n",
    "print(\"--- {:.6f} ms ---\".format((time.perf_counter() - start_time) * 1000))"
   ]
  },
  {
   "cell_type": "markdown",
   "id": "downtown-option",
   "metadata": {},
   "source": [
    "#### Упрощенный алгоритм Бойера-Мура"
   ]
  },
  {
   "cell_type": "code",
   "execution_count": 16,
   "id": "respective-reggae",
   "metadata": {
    "scrolled": true
   },
   "outputs": [
    {
     "name": "stdout",
     "output_type": "stream",
     "text": [
      "Введите строку:\n",
      "мама мыла раму\n",
      "Введите подстроку:\n",
      "ыла\n",
      "Если Вам нужна чувствительность регистра введите - 1, если нет - 0\n",
      "0\n",
      "образ найден по индексу 6\n",
      "--- 0.169400 ms ---\n",
      "6\n",
      "--- 0.108900 ms ---\n"
     ]
    }
   ],
   "source": [
    "def bmTable(sub_str):\n",
    "    S = set()  \n",
    "    M = len(sub_str) \n",
    "    d = {}     \n",
    "    for i in range(M-2, -1, -1): \n",
    "        if sub_str[i] not in S:        \n",
    "            d[sub_str[i]] = M-i-1\n",
    "            S.add(sub_str[i])\n",
    "    if sub_str[M-1] not in S:\n",
    "        d[sub_str[M-1]] = M\n",
    "    d['*'] = M              \n",
    "    return d\n",
    "\n",
    "\n",
    "def bm_Search(str, sub_str):\n",
    "    d = bmTable(sub_str)\n",
    "    N = len(str)\n",
    "    M = len(sub_str) \n",
    "    if N >= M:\n",
    "        i = M-1       \n",
    "        while(i < N):\n",
    "            k = 0\n",
    "            j = 0\n",
    "            flBreak = False\n",
    "            for j in range(M-1, -1, -1):\n",
    "                if str[i-k] != sub_str[j]:\n",
    "                    if j == M-1:\n",
    "                        off = d[str[i]] if d.get(str[i], False) else d['*']  \n",
    "                    else:\n",
    "                        off = d[sub_str[j]]   \n",
    "                    i += off    \n",
    "                    flBreak = True  \n",
    "                    break\n",
    "\n",
    "                k += 1          \n",
    "            if not flBreak:         \n",
    "                return  f\"образ найден по индексу {i-k+1}\"\n",
    "                break\n",
    "        else:\n",
    "            return  None\n",
    "    else:\n",
    "         return None\n",
    "\n",
    "str = input('Введите строку:\\n')\n",
    "sub_str = input('Введите подстроку:\\n')\n",
    "lower=input('Если Вам нужна чувствительность регистра введите - 1, если нет - 0\\n')\n",
    "if (lower == \"0\"):\n",
    "    text = str.lower()\n",
    "    sub_str = sub_str.lower()\n",
    "start_time = time.perf_counter()\n",
    "print(bm_Search(str, sub_str))\n",
    "print(\"--- {:.6f} ms ---\".format((time.perf_counter() - start_time) * 1000))\n",
    "\n",
    "start_time = time.perf_counter()\n",
    "print(text.find(sub_str))\n",
    "print(\"--- {:.6f} ms ---\".format((time.perf_counter() - start_time) * 1000))"
   ]
  },
  {
   "cell_type": "markdown",
   "id": "hybrid-memorial",
   "metadata": {},
   "source": [
    "### Задание №2\n",
    "Написать программу, определяющую, является ли данное\n",
    "расположение «решаемым», то есть можно ли из него за конечное число\n",
    "шагов перейти к правильному. Если это возможно, то необходимо найти хотя\n",
    "бы одно решение - последовательность движений, после которой числа будут\n",
    "расположены в правильном порядке.\n",
    "#### Входные данные: массив чисел, представляющий собой расстановку в\n",
    "Порядке «слева направо, сверху вниз». Число 0 обозначает пустое поле.\n",
    "Например, массив [1, 2, 3, 4, 5, 6, 7, 8, 9, 10, 11, 12, 13, 14, 15, 0] представляет\n",
    "собой «решенную» позицию элементов.\n",
    "#### Выходные данные: если решения нет, то функция должна вернуть\n",
    "Пустой массив []. Если решение есть, то необходимо представить решение —\n",
    "для каждого шага записывается номер передвигаемого на данном шаге\n",
    "элемента. "
   ]
  },
  {
   "cell_type": "code",
   "execution_count": 19,
   "id": "eleven-generic",
   "metadata": {},
   "outputs": [
    {
     "name": "stdout",
     "output_type": "stream",
     "text": [
      "Нерешаемая позиция\n"
     ]
    }
   ],
   "source": [
    "import math\n",
    "from queue import PriorityQueue\n",
    "\n",
    "N = 4 #размерность игры\n",
    "SOLVED = (1, 2, 3, 4, 5, 6, 7, 8, 9, 10, 11, 12, 13, 14, 15, 0)\n",
    "start = [1, 2, 3, 4, 5, 6, 7, 8, 13, 9, 11, 12, 10, 15, 14, 0]\n",
    "\n",
    "#проверка решаемости позиции\n",
    "def reshenie(mass): \n",
    "    summ=int(0)\n",
    "    for i in range(len(mass)):\n",
    "        for j in range(i, len(mass)):\n",
    "            if mass[i]==0:\n",
    "                summ=summ+math.floor((i+1)/4)\n",
    "            elif mass[i]>mass[j]:\n",
    "                summ += 1\n",
    "    return summ%2==1\n",
    "\n",
    "def moves(position):\n",
    "    blank = position.index(0)\n",
    "    i, j = divmod(blank, N)\n",
    "    offsets = []\n",
    "    if i > 0: offsets.append(-N)     # вниз\n",
    "    if i < N - 1: offsets.append(N)  # вверх\n",
    "    if j > 0: offsets.append(-1)     # вправо\n",
    "    if j < N - 1: offsets.append(1)  # влево\n",
    "    for offset in offsets:\n",
    "        swap = blank + offset\n",
    "        yield tuple(position[swap] if x==blank else position[blank] if x==swap else position[x] for x in range(N*N))\n",
    "\n",
    "class Position:\n",
    "    def __init__(self, position, start_distance):\n",
    "        self.position = position\n",
    "        self.start_distance = start_distance\n",
    "\n",
    "    def __lt__(self, other):\n",
    "        return self.start_distance < other.start_distance\n",
    "\n",
    "if reshenie(start) == 0:\n",
    "    print('Нерешаемая позиция')\n",
    "else:\n",
    "    # картеж\n",
    "    start = tuple(start)\n",
    "    p = Position(start, 0)\n",
    "    # очередь \n",
    "    candidates = PriorityQueue()\n",
    "    candidates.put(p)\n",
    "    # множество \n",
    "    visited = set([p])\n",
    "\n",
    "    came_from = {p.position: None}\n",
    "    \n",
    "    while p.position != SOLVED:\n",
    "        p = candidates.get()\n",
    "        for k in moves(p.position):\n",
    "            if k not in visited:\n",
    "                candidates.put(Position(k, p.start_distance + 1))\n",
    "                came_from[k] = p\n",
    "                visited.add(k)\n",
    "    path = []\n",
    "    prev = p\n",
    "    while p.position != start:\n",
    "        p = came_from[p.position]\n",
    "        number = p.position[prev.position.index(0)]\n",
    "        path.append(number)\n",
    "        prev = p\n",
    "    path.reverse()\n",
    "\n",
    "    print(path)\n"
   ]
  },
  {
   "cell_type": "markdown",
   "id": "arbitrary-amazon",
   "metadata": {},
   "source": [
    "### Вывод"
   ]
  },
  {
   "cell_type": "markdown",
   "id": "71bc58bf",
   "metadata": {},
   "source": []
  }
 ],
 "metadata": {
  "kernelspec": {
   "display_name": "Python 3 (ipykernel)",
   "language": "python",
   "name": "python3"
  },
  "language_info": {
   "codemirror_mode": {
    "name": "ipython",
    "version": 3
   },
   "file_extension": ".py",
   "mimetype": "text/x-python",
   "name": "python",
   "nbconvert_exporter": "python",
   "pygments_lexer": "ipython3",
   "version": "3.10.2"
  }
 },
 "nbformat": 4,
 "nbformat_minor": 5
}
