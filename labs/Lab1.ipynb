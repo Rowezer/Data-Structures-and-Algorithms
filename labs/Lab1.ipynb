{
 "cells": [
  {
   "cell_type": "markdown",
   "id": "fifteen-sailing",
   "metadata": {},
   "source": [
    "# Лабораторная работа №1\n",
    "## Выполнил студент группы БВТ2004 Зинов Тимофей"
   ]
  },
  {
   "cell_type": "markdown",
   "id": "particular-syndicate",
   "metadata": {},
   "source": [
    "### Оглавление\n",
    "1. [Задание 1](#Задание-№1)\n",
    "2. [Задание 2](#Задание-№2)\n",
    "3. [Задание 3](#Задание-№3)\n",
    "4. [Вывод](#Вывод)"
   ]
  },
  {
   "cell_type": "markdown",
   "id": "arctic-stocks",
   "metadata": {},
   "source": [
    "### Задание №1\n",
    "<i> Вызвать функцию print() и передать туда строку Hello, World! </i>"
   ]
  },
  {
   "cell_type": "code",
   "execution_count": 1,
   "id": "caring-truck",
   "metadata": {
    "scrolled": true
   },
   "outputs": [
    {
     "name": "stdout",
     "output_type": "stream",
     "text": [
      "Hello, World\n"
     ]
    }
   ],
   "source": [
    "print(\"Hello, World\")"
   ]
  },
  {
   "cell_type": "markdown",
   "id": "maritime-conversation",
   "metadata": {},
   "source": [
    "### Задание №2\n",
    "Написать генератор случайных матриц(многомерных), который принимает\n",
    "опциональные параметры <b>m</b>, <b>n</b>, <b>min_limit</b>, <b>max_limit</b>, где <b>m</b> и <b>n</b> указывают размер\n",
    "матрицы, а <b>min_lim</b> и <b>max_lim</b> - минимальное и максимальное значение для\n",
    "генерируемого числа."
   ]
  },
  {
   "cell_type": "code",
   "execution_count": 3,
   "id": "built-contact",
   "metadata": {},
   "outputs": [],
   "source": [
    "import random\n",
    "import time"
   ]
  },
  {
   "cell_type": "code",
   "execution_count": 4,
   "id": "alert-charm",
   "metadata": {},
   "outputs": [
    {
     "name": "stdout",
     "output_type": "stream",
     "text": [
      "10\n",
      "11\n",
      "1\n",
      "20\n",
      "  20  12   1  14   8  10  13  12  20   6\n",
      "  19  19  13   7  20  15   2  12   1   4\n",
      "  11   6  13   8  20  18   7   5  13  13\n",
      "  12   5  16   5  12  17   1   7  16  20\n",
      "  19  18  11   2  14  16  15   3  11   8\n",
      "   6  13  13  19  14   9  15   6   1   8\n",
      "  14  10  18  16   7   2  11   3   4   8\n",
      "   9   4  17  11   9   3   5  15  12  16\n",
      "  11   3  20  14  15  14  15  13  15   1\n",
      "   4   9  13  15  16  11   8  13   7  20\n",
      "  16  13   5  12  17  18  16   4   4   5\n"
     ]
    }
   ],
   "source": [
    "def printMatrix(matrix):\n",
    "    for row in matrix: \n",
    "        for x in row: \n",
    "            print ( \"{:4d}\".format(x), end = \"\" ) \n",
    "        print ()\n",
    "def rndMatrixGenerator(m: int, n: int, min_limit: int, max_limit: int,):\n",
    "    return [[random.randint(min_limit, max_limit) for y in range(m)] for x in range(n)]\n",
    "user_m = int(input())\n",
    "user_n = int(input())\n",
    "user_min_limit = int(input())\n",
    "user_max_limit = int(input())\n",
    "matrix = rndMatrixGenerator(user_m, user_n, user_min_limit, user_max_limit)\n",
    "printMatrix(matrix)"
   ]
  },
  {
   "cell_type": "markdown",
   "id": "catholic-roots",
   "metadata": {},
   "source": [
    "### Задание №3\n",
    "Реализовать методы сортировки строк числовой матрицы в соответствии с\n",
    "заданием. Оценить время работы каждого алгоритма сортировки и сравнить его со\n",
    "временем стандартной функции сортировки. Испытания проводить на сгенерированных\n",
    "матрицах."
   ]
  },
  {
   "cell_type": "code",
   "execution_count": 5,
   "id": "opposed-creature",
   "metadata": {},
   "outputs": [],
   "source": [
    "from copy import *\n",
    "import timeit"
   ]
  },
  {
   "cell_type": "code",
   "execution_count": 7,
   "id": "cleared-anniversary",
   "metadata": {},
   "outputs": [
    {
     "name": "stdout",
     "output_type": "stream",
     "text": [
      "--- 0.1441999920643866 ms ---\n",
      "   1   2   4   7  12  13  15  19  19  20\n",
      "   1   3  11  13  14  14  15  15  15  20\n",
      "   1   5   5   7  12  12  16  16  17  20\n",
      "   1   6   6   8   9  13  13  14  15  19\n",
      "   1   6   8  10  12  12  13  14  20  20\n",
      "   2   3   4   7   8  10  11  14  16  18\n",
      "   2   3   8  11  11  14  15  16  18  19\n",
      "   3   4   5   9   9  11  12  15  16  17\n",
      "   4   4   5   5  12  13  16  16  17  18\n",
      "   4   7   8   9  11  13  13  15  16  20\n",
      "   5   6   7   8  11  13  13  13  18  20\n"
     ]
    }
   ],
   "source": [
    "# Сортировка выбором.\n",
    "# Берётся срез массива, в котором минимальный элемент переносят в самый левый угол,\n",
    "# после чего срез уменьшается и цикл повторяется.\n",
    "matrix=copy(matrix)\n",
    "def printMatrix(matrix):\n",
    "    for row in matrix: \n",
    "        for x in row: \n",
    "            print ( \"{:4d}\".format(x), end = \"\" ) \n",
    "        print ()\n",
    "def selectionSort(m):\n",
    "    for i in range(len(m) - 1):\n",
    "        max_val = m[i]\n",
    "        max_index = i\n",
    "        for j in range(i, len(m)):\n",
    "            if max_val > m[j]:\n",
    "                max_val = m[j]\n",
    "                max_index = j\n",
    "        m[i], m[max_index] = m[max_index], m[i]\n",
    "start_time = timeit.default_timer()\n",
    "for row in matrix:\n",
    "    selectionSort(row)\n",
    "selectionSort(matrix)\n",
    "#TODO\n",
    "print(\"--- {0} ms ---\".format((timeit.default_timer() - start_time)*1000))\n",
    "printMatrix(matrix)"
   ]
  },
  {
   "cell_type": "code",
   "execution_count": 13,
   "id": "roman-silly",
   "metadata": {
    "scrolled": true
   },
   "outputs": [
    {
     "name": "stdout",
     "output_type": "stream",
     "text": [
      "--- 0.08329999400302768 ms ---\n",
      "   1   2   4   7  12  13  15  19  19  20\n",
      "   1   3  11  13  14  14  15  15  15  20\n",
      "   1   5   5   7  12  12  16  16  17  20\n",
      "   1   6   6   8   9  13  13  14  15  19\n",
      "   1   6   8  10  12  12  13  14  20  20\n",
      "   2   3   4   7   8  10  11  14  16  18\n",
      "   2   3   8  11  11  14  15  16  18  19\n",
      "   3   4   5   9   9  11  12  15  16  17\n",
      "   4   4   5   5  12  13  16  16  17  18\n",
      "   4   7   8   9  11  13  13  15  16  20\n",
      "   5   6   7   8  11  13  13  13  18  20\n"
     ]
    }
   ],
   "source": [
    "# Сортировка вставкой.\n",
    "matrix=copy(matrix)\n",
    "def insertionSort(m):\n",
    "    for i in range(len(m)):\n",
    "        k = m[i]\n",
    "        j = i - 1\n",
    "        while k < m[j] and j >= 0:\n",
    "            m[j + 1] = m[j]\n",
    "            j -= 1\n",
    "        m[j + 1] = k\n",
    "start_time = timeit.default_timer()\n",
    "for row in matrix:\n",
    "    insertionSort(row)\n",
    "    \n",
    "insertionSort(matrix)\n",
    "#TODO\n",
    "print(\"--- {0} ms ---\".format((timeit.default_timer() - start_time)*1000))\n",
    "printMatrix(matrix)"
   ]
  },
  {
   "cell_type": "code",
   "execution_count": 10,
   "id": "vital-implementation",
   "metadata": {},
   "outputs": [
    {
     "name": "stdout",
     "output_type": "stream",
     "text": [
      "--- 0.13800000306218863 ms ---\n",
      "   1   2   4   7  12  13  15  19  19  20\n",
      "   1   3  11  13  14  14  15  15  15  20\n",
      "   1   5   5   7  12  12  16  16  17  20\n",
      "   1   6   6   8   9  13  13  14  15  19\n",
      "   1   6   8  10  12  12  13  14  20  20\n",
      "   2   3   4   7   8  10  11  14  16  18\n",
      "   2   3   8  11  11  14  15  16  18  19\n",
      "   3   4   5   9   9  11  12  15  16  17\n",
      "   4   4   5   5  12  13  16  16  17  18\n",
      "   4   7   8   9  11  13  13  15  16  20\n",
      "   5   6   7   8  11  13  13  13  18  20\n"
     ]
    }
   ],
   "source": [
    "# Сортировка обменом. || Сортировка пузырьком.\n",
    "matrix=copy(matrix)\n",
    "def bubbleSort(m):\n",
    "    for i in range(len(m) - 1):\n",
    "        for j in range(len(m) - 1 - i):\n",
    "            if m[j] > m[j + 1]:\n",
    "                m[j], m[j + 1] = m[j + 1], m[j]\n",
    "\n",
    "start_time = timeit.default_timer()\n",
    "                \n",
    "for row in matrix:\n",
    "    bubbleSort(row)\n",
    "    \n",
    "bubbleSort(matrix)\n",
    "#TODO\n",
    "print(\"--- {0} ms ---\".format((timeit.default_timer() - start_time)*1000))\n",
    "printMatrix(matrix)"
   ]
  },
  {
   "cell_type": "code",
   "execution_count": 24,
   "id": "veterinary-glory",
   "metadata": {},
   "outputs": [
    {
     "name": "stdout",
     "output_type": "stream",
     "text": [
      "--- 0.15780000831000507 ms ---\n",
      "   1   2   4   7  12  13  15  19  19  20\n",
      "   1   3  11  13  14  14  15  15  15  20\n",
      "   1   5   5   7  12  12  16  16  17  20\n",
      "   1   6   6   8   9  13  13  14  15  19\n",
      "   1   6   8  10  12  12  13  14  20  20\n",
      "   2   3   4   7   8  10  11  14  16  18\n",
      "   2   3   8  11  11  14  15  16  18  19\n",
      "   3   4   5   9   9  11  12  15  16  17\n",
      "   4   4   5   5  12  13  16  16  17  18\n",
      "   4   7   8   9  11  13  13  15  16  20\n",
      "   5   6   7   8  11  13  13  13  18  20\n"
     ]
    }
   ],
   "source": [
    "# Сортировка Шелла.\n",
    "matrix=copy(matrix)\n",
    "def ShellSort(m):\n",
    "    step = len(m)//2\n",
    "    while step > 0:\n",
    "        for i in range(step, len(m)):\n",
    "            k = m[i]\n",
    "            j = i - step\n",
    "            while k < m[j] and j >= 0:\n",
    "                m[j + step] = m[j]\n",
    "                j -= step\n",
    "            m[j + step] = k\n",
    "        step = step//2\n",
    "\n",
    "start_time = timeit.default_timer()\n",
    "for row in matrix:\n",
    "    ShellSort(row)\n",
    "    \n",
    "ShellSort(matrix)\n",
    "#TODO\n",
    "print(\"--- {0} ms ---\".format((timeit.default_timer() - start_time)*1000))\n",
    "printMatrix(matrix)"
   ]
  },
  {
   "cell_type": "code",
   "execution_count": 26,
   "id": "correct-chaos",
   "metadata": {},
   "outputs": [
    {
     "name": "stdout",
     "output_type": "stream",
     "text": [
      "--- 0.2623000182211399 ms ---\n",
      "   1   2   4   7  12  13  15  19  19  20\n",
      "   1   3  11  13  14  14  15  15  15  20\n",
      "   1   5   5   7  12  12  16  16  17  20\n",
      "   1   6   6   8   9  13  13  14  15  19\n",
      "   1   6   8  10  12  12  13  14  20  20\n",
      "   2   3   4   7   8  10  11  14  16  18\n",
      "   2   3   8  11  11  14  15  16  18  19\n",
      "   3   4   5   9   9  11  12  15  16  17\n",
      "   4   4   5   5  12  13  16  16  17  18\n",
      "   4   7   8   9  11  13  13  15  16  20\n",
      "   5   6   7   8  11  13  13  13  18  20\n"
     ]
    }
   ],
   "source": [
    "# Быстрая сортировка.\n",
    "matrix=copy(matrix)\n",
    "def fastSort(m):\n",
    "    if len(m) <= 1:\n",
    "        return m\n",
    "    else:\n",
    "        q = m[len(m)//2]\n",
    "        a = []\n",
    "        b = []\n",
    "        c = []\n",
    "        for i in m:\n",
    "            if i < q:\n",
    "                a.append(i)\n",
    "            elif i > q:\n",
    "                b.append(i)\n",
    "            else:\n",
    "                c.append(i)\n",
    "        return fastSort(a) + c + fastSort(b)\n",
    "        \n",
    "\n",
    "start_time = timeit.default_timer()\n",
    "for row in matrix:\n",
    "    fastSort(row)\n",
    "fastSort(matrix)\n",
    "#TODO\n",
    "print(\"--- {0} ms ---\".format((timeit.default_timer() - start_time)*1000))\n",
    "printMatrix(matrix)"
   ]
  },
  {
   "cell_type": "code",
   "execution_count": 32,
   "id": "french-czech",
   "metadata": {},
   "outputs": [
    {
     "name": "stdout",
     "output_type": "stream",
     "text": [
      "--- 0.08900000830180943 ms ---\n",
      "   1   2   4   7  12  13  15  19  19  20\n",
      "   1   3  11  13  14  14  15  15  15  20\n",
      "   1   5   5   7  12  12  16  16  17  20\n",
      "   1   6   6   8   9  13  13  14  15  19\n",
      "   1   6   8  10  12  12  13  14  20  20\n",
      "   2   3   4   7   8  10  11  14  16  18\n",
      "   2   3   8  11  11  14  15  16  18  19\n",
      "   3   4   5   9   9  11  12  15  16  17\n",
      "   4   4   5   5  12  13  16  16  17  18\n",
      "   4   7   8   9  11  13  13  15  16  20\n",
      "   5   6   7   8  11  13  13  13  18  20\n"
     ]
    }
   ],
   "source": [
    "# Турнирная сортировка.\n",
    "from heapq import *\n",
    "matrix = copy(matrix)\n",
    "def tournamentSort(m):\n",
    "    h = []\n",
    "    for i in m:\n",
    "        heappush(h, i)\n",
    "    for i in range(len(m)):\n",
    "        m[i] = heappop(h)\n",
    "\n",
    "start_time = timeit.default_timer()\n",
    "for row in matrix:\n",
    "    tournamentSort(row)\n",
    "tournamentSort(matrix)\n",
    "#TODO\n",
    "print(\"--- {0} ms ---\".format((timeit.default_timer() - start_time)*1000))\n",
    "printMatrix(matrix)"
   ]
  },
  {
   "cell_type": "markdown",
   "id": "rental-jerusalem",
   "metadata": {},
   "source": [
    "### Вывод\n"
   ]
  },
  {
   "cell_type": "code",
   "execution_count": null,
   "id": "19e7f6a9",
   "metadata": {},
   "outputs": [],
   "source": []
  }
 ],
 "metadata": {
  "kernelspec": {
   "display_name": "Python 3 (ipykernel)",
   "language": "python",
   "name": "python3"
  },
  "language_info": {
   "codemirror_mode": {
    "name": "ipython",
    "version": 3
   },
   "file_extension": ".py",
   "mimetype": "text/x-python",
   "name": "python",
   "nbconvert_exporter": "python",
   "pygments_lexer": "ipython3",
   "version": "3.10.2"
  }
 },
 "nbformat": 4,
 "nbformat_minor": 5
}
